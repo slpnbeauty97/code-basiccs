{
 "cells": [
  {
   "cell_type": "code",
   "execution_count": 1,
   "id": "0ac9b488",
   "metadata": {
    "_cell_guid": "b1076dfc-b9ad-4769-8c92-a6c4dae69d19",
    "_uuid": "8f2839f25d086af736a60e9eeb907d3b93b6e0e5",
    "execution": {
     "iopub.execute_input": "2024-03-06T05:10:03.144132Z",
     "iopub.status.busy": "2024-03-06T05:10:03.143442Z",
     "iopub.status.idle": "2024-03-06T05:10:03.990824Z",
     "shell.execute_reply": "2024-03-06T05:10:03.989665Z"
    },
    "papermill": {
     "duration": 0.856498,
     "end_time": "2024-03-06T05:10:03.995232",
     "exception": false,
     "start_time": "2024-03-06T05:10:03.138734",
     "status": "completed"
    },
    "tags": []
   },
   "outputs": [
    {
     "name": "stdout",
     "output_type": "stream",
     "text": [
      "/kaggle/input/dividend/dividend_contenders (1).xlsx\n"
     ]
    }
   ],
   "source": [
    "# This Python 3 environment comes with many helpful analytics libraries installed\n",
    "# It is defined by the kaggle/python Docker image: https://github.com/kaggle/docker-python\n",
    "# For example, here's several helpful packages to load\n",
    "\n",
    "import numpy as np # linear algebra\n",
    "import pandas as pd # data processing, CSV file I/O (e.g. pd.read_csv)\n",
    "\n",
    "# Input data files are available in the read-only \"../input/\" directory\n",
    "# For example, running this (by clicking run or pressing Shift+Enter) will list all files under the input directory\n",
    "\n",
    "import os\n",
    "for dirname, _, filenames in os.walk('/kaggle/input'):\n",
    "    for filename in filenames:\n",
    "        print(os.path.join(dirname, filename))\n",
    "\n",
    "# You can write up to 20GB to the current directory (/kaggle/working/) that gets preserved as output when you create a version using \"Save & Run All\" \n",
    "# You can also write temporary files to /kaggle/temp/, but they won't be saved outside of the current session"
   ]
  },
  {
   "cell_type": "code",
   "execution_count": 2,
   "id": "db1318bb",
   "metadata": {
    "execution": {
     "iopub.execute_input": "2024-03-06T05:10:04.003153Z",
     "iopub.status.busy": "2024-03-06T05:10:04.002133Z",
     "iopub.status.idle": "2024-03-06T05:10:04.464264Z",
     "shell.execute_reply": "2024-03-06T05:10:04.462301Z"
    },
    "papermill": {
     "duration": 0.468984,
     "end_time": "2024-03-06T05:10:04.467166",
     "exception": false,
     "start_time": "2024-03-06T05:10:03.998182",
     "status": "completed"
    },
    "tags": []
   },
   "outputs": [
    {
     "name": "stdout",
     "output_type": "stream",
     "text": [
      "    Ticker  Name              Sector   Price  Dividend Yield  \\\n",
      "0        A     0          Healthcare  129.14        0.006721   \n",
      "1     AAPL     0          Technology  175.05        0.005484   \n",
      "2     ABBV     0          Healthcare  143.44        0.041272   \n",
      "3      ABC     0          Healthcare  174.82        0.011097   \n",
      "4      ABR     0         Real Estate   12.81        0.131148   \n",
      "..     ...   ...                 ...     ...             ...   \n",
      "337    XEL     0           Utilities   65.87        0.031577   \n",
      "338   XRAY     0          Healthcare   40.50        0.012644   \n",
      "339    XYL     0         Industrials  104.43        0.012640   \n",
      "340   ZION     0  Financial Services   27.24        0.060206   \n",
      "341    ZTS     0          Healthcare  179.72        0.008346   \n",
      "\n",
      "     1-Year Dividend Growth  5-Year Dividend Growth (Annualized)  \\\n",
      "0                  0.071429                             0.085924   \n",
      "1                  0.043478                                  NaN   \n",
      "2                  0.049645                             0.090431   \n",
      "3                  0.054348                             0.039289   \n",
      "4                  0.076923                             0.228660   \n",
      "..                      ...                                  ...   \n",
      "337                0.066667                             0.064741   \n",
      "338                0.120000                             0.098561   \n",
      "339                0.100000                             0.094609   \n",
      "340                     NaN                                  NaN   \n",
      "341                0.153846                             0.243747   \n",
      "\n",
      "     Dividends Per Share (TTM)  Market Cap ($M)  Trailing P/E Ratio  \\\n",
      "0                     0.867965     3.818694e+04           28.863898   \n",
      "1                     0.926440     2.753309e+06           29.190841   \n",
      "2                     5.700550     2.530697e+05           33.554722   \n",
      "3                     1.903676     3.539511e+04           21.891425   \n",
      "4                     1.519865     2.320674e+03            7.606498   \n",
      "..                         ...              ...                 ...   \n",
      "337                   1.961146     3.625197e+04           20.435159   \n",
      "338                   0.512082     8.605351e+03                 NaN   \n",
      "339                   1.227419     1.886179e+04           50.703735   \n",
      "340                   1.588582     4.034263e+03            2.765088   \n",
      "341                   1.395597     8.305079e+04           40.101784   \n",
      "\n",
      "     Payout Ratio      Beta  52-Week High  52-Week Low  \n",
      "0        0.195929  1.089368        159.77       111.78  \n",
      "1        0.157558       NaN        175.24       123.64  \n",
      "2        1.344469  0.354429        166.20       130.29  \n",
      "3        0.245003  0.453278        175.35       133.51  \n",
      "4        1.026936  1.155250         14.55         9.77  \n",
      "..            ...       ...           ...          ...  \n",
      "337      0.607166  0.640565         76.02        56.05  \n",
      "338           NaN  1.028403         43.24        26.28  \n",
      "339      0.598741  1.062193        118.58        71.65  \n",
      "340      0.162598       NaN         56.79        17.64  \n",
      "341      0.315033  1.000989        187.82       123.59  \n",
      "\n",
      "[342 rows x 14 columns]\n"
     ]
    }
   ],
   "source": [
    "# import pandas lib as pd\n",
    "import pandas as pd\n",
    "# read by default 1st sheet of an excel file\n",
    "dataframe1 = pd.read_excel('/kaggle/input/dividend/dividend_contenders (1).xlsx')\n",
    "print(dataframe1)"
   ]
  },
  {
   "cell_type": "code",
   "execution_count": 3,
   "id": "581f77e3",
   "metadata": {
    "execution": {
     "iopub.execute_input": "2024-03-06T05:10:04.474156Z",
     "iopub.status.busy": "2024-03-06T05:10:04.473323Z",
     "iopub.status.idle": "2024-03-06T05:10:04.481796Z",
     "shell.execute_reply": "2024-03-06T05:10:04.480693Z"
    },
    "papermill": {
     "duration": 0.015279,
     "end_time": "2024-03-06T05:10:04.485011",
     "exception": false,
     "start_time": "2024-03-06T05:10:04.469732",
     "status": "completed"
    },
    "tags": []
   },
   "outputs": [
    {
     "name": "stdout",
     "output_type": "stream",
     "text": [
      "Ticker                                          AVGO\n",
      "Name                                               0\n",
      "Sector                                    Technology\n",
      "Price                                          677.9\n",
      "Dividend Yield                              0.027143\n",
      "1-Year Dividend Growth                      0.121951\n",
      "5-Year Dividend Growth (Annualized)         0.213232\n",
      "Dividends Per Share (TTM)                  17.207592\n",
      "Market Cap ($M)                        282632.551826\n",
      "Trailing P/E Ratio                         22.432935\n",
      "Payout Ratio                                0.577824\n",
      "Beta                                        1.218774\n",
      "52-Week High                                  679.36\n",
      "52-Week Low                                   408.69\n",
      "Name: 41, dtype: object\n"
     ]
    }
   ],
   "source": [
    "higheststock_index = dataframe1['Price'].idxmax()\n",
    "higheststock = dataframe1.loc[higheststock_index]\n",
    "print(higheststock)"
   ]
  },
  {
   "cell_type": "code",
   "execution_count": 4,
   "id": "27bfd50d",
   "metadata": {
    "execution": {
     "iopub.execute_input": "2024-03-06T05:10:04.491838Z",
     "iopub.status.busy": "2024-03-06T05:10:04.491210Z",
     "iopub.status.idle": "2024-03-06T05:10:04.498338Z",
     "shell.execute_reply": "2024-03-06T05:10:04.497112Z"
    },
    "papermill": {
     "duration": 0.013063,
     "end_time": "2024-03-06T05:10:04.500558",
     "exception": false,
     "start_time": "2024-03-06T05:10:04.487495",
     "status": "completed"
    },
    "tags": []
   },
   "outputs": [
    {
     "name": "stdout",
     "output_type": "stream",
     "text": [
      "Ticker                                         MPW\n",
      "Name                                             0\n",
      "Sector                                 Real Estate\n",
      "Price                                         7.78\n",
      "Dividend Yield                              0.1491\n",
      "1-Year Dividend Growth                         0.0\n",
      "5-Year Dividend Growth (Annualized)       0.030129\n",
      "Dividends Per Share (TTM)                 1.111866\n",
      "Market Cap ($M)                           4654.774\n",
      "Trailing P/E Ratio                       15.413414\n",
      "Payout Ratio                              2.204333\n",
      "Beta                                      0.955626\n",
      "52-Week High                                 17.15\n",
      "52-Week Low                                    7.1\n",
      "Name: 214, dtype: object\n"
     ]
    }
   ],
   "source": [
    "loweststock_index = dataframe1['Dividend Yield'].idxmax()\n",
    "loweststock = dataframe1.loc[loweststock_index]\n",
    "print(loweststock)"
   ]
  }
 ],
 "metadata": {
  "kaggle": {
   "accelerator": "none",
   "dataSources": [
    {
     "datasetId": 3292184,
     "sourceId": 5724840,
     "sourceType": "datasetVersion"
    }
   ],
   "dockerImageVersionId": 30664,
   "isGpuEnabled": false,
   "isInternetEnabled": true,
   "language": "python",
   "sourceType": "notebook"
  },
  "kernelspec": {
   "display_name": "Python 3",
   "language": "python",
   "name": "python3"
  },
  "language_info": {
   "codemirror_mode": {
    "name": "ipython",
    "version": 3
   },
   "file_extension": ".py",
   "mimetype": "text/x-python",
   "name": "python",
   "nbconvert_exporter": "python",
   "pygments_lexer": "ipython3",
   "version": "3.10.13"
  },
  "papermill": {
   "default_parameters": {},
   "duration": 4.457737,
   "end_time": "2024-03-06T05:10:04.924828",
   "environment_variables": {},
   "exception": null,
   "input_path": "__notebook__.ipynb",
   "output_path": "__notebook__.ipynb",
   "parameters": {},
   "start_time": "2024-03-06T05:10:00.467091",
   "version": "2.5.0"
  }
 },
 "nbformat": 4,
 "nbformat_minor": 5
}
